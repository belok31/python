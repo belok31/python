{
 "cells": [
  {
   "cell_type": "markdown",
   "metadata": {
    "id": "_kX74ytuOfgy"
   },
   "source": [
    "# Домашнее задание \"Продвинутая оптимизация\"."
   ]
  },
  {
   "cell_type": "markdown",
   "metadata": {
    "id": "9JUikPzroAL8"
   },
   "source": [
    "### Задание"
   ]
  },
  {
   "cell_type": "markdown",
   "metadata": {
    "id": "ya8BlSO5nQ9a"
   },
   "source": [
    "При фиксированном `seed=42` поэкспериментируйте с параметрами алгоритма [differential_evolution]: strategy, popsize, mutation.\n",
    "\n",
    "Постройте графики количества итераций (`nit`) оптимизации [функции ackley] от значения параметра. \n",
    "\n",
    "Подробнее о результате выдачи [тут]."
   ]
  },
  {
   "cell_type": "code",
   "execution_count": 1,
   "metadata": {
    "collapsed": true,
    "id": "p2gC3FEFnY08"
   },
   "outputs": [],
   "source": [
    "import numpy as np\n",
    "from scipy.optimize import differential_evolution\n",
    "import matplotlib.pyplot as plt\n",
    "\n",
    "%matplotlib inline"
   ]
  },
  {
   "cell_type": "code",
   "execution_count": 2,
   "metadata": {
    "colab": {
     "base_uri": "https://localhost:8080/"
    },
    "id": "094Qv5FuC08h",
    "outputId": "c3d23bc3-c849-4161-ed16-d3207c700ee2"
   },
   "outputs": [
    {
     "data": {
      "text/plain": [
       "     fun: 4.4408920985006262e-16\n",
       " message: 'Optimization terminated successfully.'\n",
       "    nfev: 2673\n",
       "     nit: 86\n",
       " success: True\n",
       "       x: array([ 0.,  0.])"
      ]
     },
     "execution_count": 2,
     "metadata": {},
     "output_type": "execute_result"
    }
   ],
   "source": [
    "def ackley(x):\n",
    "    arg1 = -0.2 * np.sqrt(0.5 * (x[0] ** 2 + x[1] ** 2))\n",
    "    arg2 = 0.5 * (np.cos(2. * np.pi * x[0]) + np.cos(2. * np.pi * x[1]))\n",
    "    return -20. * np.exp(arg1) - np.exp(arg2) + 20. + np.e\n",
    "\n",
    "bounds = [(-10, 10), (-10, 10)]\n",
    "\n",
    "result = differential_evolution(ackley, bounds, seed=42)\n",
    "result"
   ]
  },
  {
   "cell_type": "code",
   "execution_count": 43,
   "metadata": {
    "id": "yL8ITujuFu0M"
   },
   "outputs": [
    {
     "data": {
      "text/plain": [
       "{'best1bin': 86,\n",
       " 'best1exp': 132,\n",
       " 'best2bin': 152,\n",
       " 'best2exp': 228,\n",
       " 'rand1bin': 157,\n",
       " 'rand1exp': 232,\n",
       " 'rand2bin': 217,\n",
       " 'rand2exp': 331,\n",
       " 'randtobest1bin': 108,\n",
       " 'randtobest1exp': 158}"
      ]
     },
     "execution_count": 43,
     "metadata": {},
     "output_type": "execute_result"
    }
   ],
   "source": [
    "# Проверяем количество итераций при различных значениях параметра strategy\n",
    "strategy_name = ['best1bin','best1exp','rand1bin','rand1exp','rand2bin','rand2exp','randtobest1bin',\n",
    "                 'randtobest1exp','best2exp','best2bin']\n",
    "res1 = {}\n",
    "for i in strategy_name:\n",
    "    result = differential_evolution(ackley, bounds, seed=42, strategy=i)\n",
    "    res1[i] = result.nit\n",
    "res1"
   ]
  },
  {
   "cell_type": "code",
   "execution_count": 45,
   "metadata": {},
   "outputs": [
    {
     "data": {
      "image/png": "[encoded data removed]",
      "text/plain": [
       "<matplotlib.figure.Figure at 0xc554be0>"
      ]
     },
     "metadata": {},
     "output_type": "display_data"
    }
   ],
   "source": [
    "names = list(res1.keys())\n",
    "nit = list(res1.values())\n",
    "plt.barh(range(len(res1)),nit,tick_label=names)\n",
    "plt.title('Количество итераций в зависимости от параметра strategy')\n",
    "plt.show()"
   ]
  },
  {
   "cell_type": "markdown",
   "metadata": {},
   "source": [
    "Лучший результат на функции Экли показывает стратегия по умолчанию best1bin."
   ]
  },
  {
   "cell_type": "code",
   "execution_count": 63,
   "metadata": {},
   "outputs": [
    {
     "data": {
      "text/plain": [
       "{10: 91,\n",
       " 11: 90,\n",
       " 12: 92,\n",
       " 13: 96,\n",
       " 14: 90,\n",
       " 15: 86,\n",
       " 16: 94,\n",
       " 17: 85,\n",
       " 18: 94,\n",
       " 19: 89,\n",
       " 20: 93,\n",
       " 21: 91,\n",
       " 22: 97,\n",
       " 23: 92,\n",
       " 24: 88,\n",
       " 25: 96,\n",
       " 26: 90,\n",
       " 27: 93,\n",
       " 28: 92,\n",
       " 29: 96}"
      ]
     },
     "execution_count": 63,
     "metadata": {},
     "output_type": "execute_result"
    }
   ],
   "source": [
    "# Проверяем количество итераций при различных значениях параметра popsize\n",
    "res2 = {}\n",
    "for i in range(10,30):\n",
    "    result = differential_evolution(ackley, bounds, seed=42, popsize=i)\n",
    "    res2[i] = result.nit\n",
    "res2"
   ]
  },
  {
   "cell_type": "code",
   "execution_count": 66,
   "metadata": {},
   "outputs": [
    {
     "data": {
      "image/png": "[encoded data removed]",
      "text/plain": [
       "<matplotlib.figure.Figure at 0xbeab470>"
      ]
     },
     "metadata": {},
     "output_type": "display_data"
    }
   ],
   "source": [
    "x = list(res2.keys())\n",
    "y = list(res2.values())\n",
    "plt.figure(figsize=(20,3))\n",
    "plt.scatter(x,y)\n",
    "plt.axis([10,30,40,100])\n",
    "plt.title('Количество итераций в зависимости от параметра popsize')\n",
    "plt.show()"
   ]
  },
  {
   "cell_type": "markdown",
   "metadata": {},
   "source": [
    "Размер популяции практически не влияет на количество итераций."
   ]
  },
  {
   "cell_type": "code",
   "execution_count": 91,
   "metadata": {},
   "outputs": [
    {
     "data": {
      "text/plain": [
       "{0.0: 3,\n",
       " 0.05: 5,\n",
       " 0.1: 5,\n",
       " 0.15: 27,\n",
       " 0.2: 29,\n",
       " 0.25: 32,\n",
       " 0.3: 37,\n",
       " 0.35: 45,\n",
       " 0.4: 46,\n",
       " 0.45: 51,\n",
       " 0.5: 57,\n",
       " 0.55: 62,\n",
       " 0.6: 69,\n",
       " 0.65: 80,\n",
       " 0.7: 88,\n",
       " 0.75: 99,\n",
       " 0.8: 104,\n",
       " 0.85: 116,\n",
       " 0.9: 115,\n",
       " 0.95: 130,\n",
       " 1.0: 47,\n",
       " 1.05: 164,\n",
       " 1.1: 174,\n",
       " 1.15: 183,\n",
       " 1.2: 170,\n",
       " 1.25: 195,\n",
       " 1.3: 201,\n",
       " 1.35: 230,\n",
       " 1.4: 233,\n",
       " 1.45: 53,\n",
       " 1.5: 245,\n",
       " 1.55: 25,\n",
       " 1.6: 146,\n",
       " 1.65: 91,\n",
       " 1.7: 182,\n",
       " 1.75: 98,\n",
       " 1.8: 86,\n",
       " 1.85: 102,\n",
       " 1.9: 317,\n",
       " 1.95: 141}"
      ]
     },
     "execution_count": 91,
     "metadata": {},
     "output_type": "execute_result"
    }
   ],
   "source": [
    "# Проверяем количество итераций при различных значениях параметра mutation\n",
    "res3 = {}\n",
    "for i in range(0,40):\n",
    "    result = differential_evolution(ackley, bounds, seed=42, mutation=i/20)\n",
    "    res3[i/20] = result.nit\n",
    "res3"
   ]
  },
  {
   "cell_type": "code",
   "execution_count": 92,
   "metadata": {},
   "outputs": [
    {
     "data": {
      "image/png": "[encoded data removed]",
      "text/plain": [
       "<matplotlib.figure.Figure at 0xc15c208>"
      ]
     },
     "metadata": {},
     "output_type": "display_data"
    }
   ],
   "source": [
    "x = list(res3.keys())\n",
    "y = list(res3.values())\n",
    "plt.figure(figsize=(20,3))\n",
    "plt.plot(x,y)\n",
    "#plt.axis([10,30,40,100])\n",
    "plt.title('Количество итераций в зависимости от параметра mutation')\n",
    "plt.show()"
   ]
  },
  {
   "cell_type": "markdown",
   "metadata": {},
   "source": [
    "Как и сказано в документации, с ростом количества мутаций растет количество итераций, но на функции Экли на значениях больше 1,4 появляются многочисленные единичные низкие значения при сохранении общей тенденции к росту."
   ]
  },
  {
   "cell_type": "markdown",
   "metadata": {
    "id": "v7ZXCkamEaj4"
   },
   "source": [
    "### Дополнительное задание\n"
   ]
  },
  {
   "cell_type": "markdown",
   "metadata": {
    "id": "s5d4lLHVE9lX"
   },
   "source": [
    "Поэкспериментируйте с параметрами и оптимизацией через [minimize](https://docs.scipy.org/doc/scipy/reference/generated/scipy.optimize.minimize.html):"
   ]
  },
  {
   "cell_type": "code",
   "execution_count": 4,
   "metadata": {
    "colab": {
     "base_uri": "https://localhost:8080/"
    },
    "id": "DYlrUKvXEaFr",
    "outputId": "d7845458-dbee-4ad5-c4d4-22cd2b09f8d6"
   },
   "outputs": [
    {
     "data": {
      "text/plain": [
       " final_simplex: (array([[  0.00000000e+00,   0.00000000e+00],\n",
       "       [ -1.60675049e-05,  -8.45336914e-06],\n",
       "       [ -1.40380859e-06,  -3.11279297e-05]]), array([  4.44089210e-16,   5.13604405e-05,   8.81584216e-05]))\n",
       "           fun: 4.4408920985006262e-16\n",
       "       message: 'Optimization terminated successfully.'\n",
       "          nfev: 17\n",
       "           nit: 8\n",
       "        status: 0\n",
       "       success: True\n",
       "             x: array([ 0.,  0.])"
      ]
     },
     "execution_count": 4,
     "metadata": {},
     "output_type": "execute_result"
    }
   ],
   "source": [
    "from scipy.optimize import minimize\n",
    "\n",
    "x0 = [0,0]\n",
    "\n",
    "result_m = minimize(ackley, x0,  method='Nelder-Mead')\n",
    "result_m"
   ]
  },
  {
   "cell_type": "code",
   "execution_count": 17,
   "metadata": {
    "collapsed": true
   },
   "outputs": [],
   "source": [
    "# функция вычисления градиента в точке\n",
    "def ackley_grad(x):\n",
    "    arg1 = -0.2 * np.sqrt(0.5 * (x[0] ** 2 + x[1] ** 2))\n",
    "    arg2 = 0.5 * (np.cos(2. * np.pi * x[0]) + np.cos(2. * np.pi * x[1]))\n",
    "    return np.array([-0.4*x[0]/(arg1+1.e-16)*np.exp(arg1) + np.pi*np.sin(2.*np.pi*x[0])*np.exp(arg2),\n",
    "                  -0.4*x[1]/(arg1+1.e-16)*np.exp(arg1) + np.pi*np.sin(2.*np.pi*x[1])*np.exp(arg2)])"
   ]
  },
  {
   "cell_type": "code",
   "execution_count": 29,
   "metadata": {
    "id": "i0osASkQFujW"
   },
   "outputs": [
    {
     "name": "stderr",
     "output_type": "stream",
     "text": [
      "C:\\ProgramData\\Anaconda3\\lib\\site-packages\\scipy\\optimize\\_minimize.py:381: RuntimeWarning: Method Nelder-Mead does not use gradient information (jac).\n",
      "  RuntimeWarning)\n",
      "C:\\ProgramData\\Anaconda3\\lib\\site-packages\\scipy\\optimize\\_minimize.py:381: RuntimeWarning: Method Powell does not use gradient information (jac).\n",
      "  RuntimeWarning)\n",
      "C:\\ProgramData\\Anaconda3\\lib\\site-packages\\scipy\\optimize\\_minimize.py:381: RuntimeWarning: Method COBYLA does not use gradient information (jac).\n",
      "  RuntimeWarning)\n"
     ]
    },
    {
     "data": {
      "text/plain": [
       "{'BFGS': [True, 1, 4.4408920985006262e-16, array([ 0.,  0.])],\n",
       " 'CG': [True, 1, 4.4408920985006262e-16, array([ 0.,  0.])],\n",
       " 'COBYLA': [True,\n",
       "  25,\n",
       "  0.00028310899612238316,\n",
       "  array([ -8.76258342e-06,   9.96153459e-05])],\n",
       " 'L-BFGS-B': [True, 1, 4.4408920985006262e-16, array([ 0.,  0.])],\n",
       " 'Nelder-Mead': [True, 17, 4.4408920985006262e-16, array([ 0.,  0.])],\n",
       " 'Powell': [True, 63, 4.4408920985006262e-16, array([ 0.,  0.])],\n",
       " 'SLSQP': [True, 1, 4.440892098500626e-16, array([ 0.,  0.])],\n",
       " 'TNC': [True, 1, 4.4408920985006262e-16, array([ 0.,  0.])]}"
      ]
     },
     "execution_count": 29,
     "metadata": {},
     "output_type": "execute_result"
    }
   ],
   "source": [
    "# Показатель количества итераций nit доступен не для всех методов,\n",
    "# проверяем количество расчетов целевой функции \n",
    "method_name = ['Nelder-Mead','Powell','CG','BFGS','L-BFGS-B','TNC','COBYLA','SLSQP']\n",
    "\n",
    "res4 = {}\n",
    "for i in method_name:\n",
    "    result_m = minimize(ackley, x0,  method=i, jac=ackley_grad)\n",
    "    res4[i] = [result_m.success,result_m.nfev,result_m.fun,result_m.x]\n",
    "res4"
   ]
  },
  {
   "cell_type": "markdown",
   "metadata": {},
   "source": [
    "Для начальной точки [0,0] алгоритмы, требующие расчета градиента, находят минимум за 1 проход.\n",
    "Смещаем начальную точку:"
   ]
  },
  {
   "cell_type": "code",
   "execution_count": 32,
   "metadata": {},
   "outputs": [
    {
     "name": "stderr",
     "output_type": "stream",
     "text": [
      "C:\\ProgramData\\Anaconda3\\lib\\site-packages\\scipy\\optimize\\_minimize.py:381: RuntimeWarning: Method Nelder-Mead does not use gradient information (jac).\n",
      "  RuntimeWarning)\n",
      "C:\\ProgramData\\Anaconda3\\lib\\site-packages\\scipy\\optimize\\_minimize.py:381: RuntimeWarning: Method Powell does not use gradient information (jac).\n",
      "  RuntimeWarning)\n",
      "C:\\ProgramData\\Anaconda3\\lib\\site-packages\\scipy\\optimize\\_minimize.py:381: RuntimeWarning: Method COBYLA does not use gradient information (jac).\n",
      "  RuntimeWarning)\n"
     ]
    },
    {
     "data": {
      "text/plain": [
       "{'BFGS': [False,\n",
       "  'Desired error not necessarily achieved due to precision loss.',\n",
       "  176,\n",
       "  3.9968028886505635e-15,\n",
       "  array([  6.48854730e-16,  -1.35569905e-15])],\n",
       " 'CG': [False,\n",
       "  'Desired error not necessarily achieved due to precision loss.',\n",
       "  167,\n",
       "  3.9968028886505635e-15,\n",
       "  array([ -7.89396193e-16,   1.21142049e-15])],\n",
       " 'COBYLA': [True,\n",
       "  'Optimization terminated successfully.',\n",
       "  42,\n",
       "  0.00028809875895108306,\n",
       "  array([ -7.78558772e-05,  -6.55265092e-05])],\n",
       " 'L-BFGS-B': [True,\n",
       "  b'CONVERGENCE: REL_REDUCTION_OF_F_<=_FACTR*EPSMCH',\n",
       "  52,\n",
       "  1.8461148165727082e-09,\n",
       "  array([  4.90898888e-10,   4.30158142e-10])],\n",
       " 'Nelder-Mead': [True,\n",
       "  'Optimization terminated successfully.',\n",
       "  71,\n",
       "  9.0843248255811915e-05,\n",
       "  array([  3.08556187e-05,  -8.88084450e-06])],\n",
       " 'Powell': [True,\n",
       "  'Optimization terminated successfully.',\n",
       "  259,\n",
       "  1.1013856493491403e-11,\n",
       "  array([ -3.88812445e-12,  -2.17105038e-13])],\n",
       " 'SLSQP': [True,\n",
       "  'Optimization terminated successfully.',\n",
       "  40,\n",
       "  1.0932066847324506e-06,\n",
       "  array([  2.93234924e-07,   2.51793168e-07])],\n",
       " 'TNC': [True,\n",
       "  'Converged (|x_n-x_(n-1)| ~= 0)',\n",
       "  100,\n",
       "  1.5841845613095984e-08,\n",
       "  array([ -5.49235284e-09,  -1.09752749e-09])]}"
      ]
     },
     "execution_count": 32,
     "metadata": {},
     "output_type": "execute_result"
    }
   ],
   "source": [
    "x0 = [0.1,0.2]\n",
    "res5 = {}\n",
    "for i in method_name:\n",
    "    result_m = minimize(ackley, x0,  method=i, jac=ackley_grad)\n",
    "    res5[i] = [result_m.success,result_m.message,result_m.nfev,result_m.fun,result_m.x]\n",
    "res5"
   ]
  },
  {
   "cell_type": "markdown",
   "metadata": {},
   "source": [
    "Алгоритмы BFGS и CG с задачей не справились.\n",
    "Меньше всего проходов выполнили алгоритмы SLSQP и COBYLA.\n",
    "Лучшую точность показал Powell.\n",
    "L-BFGS-B показал хорошую точность при высокой скорости работы."
   ]
  },
  {
   "cell_type": "markdown",
   "metadata": {
    "id": "SQFjdDgBDG-v"
   },
   "source": [
    "Вы также можете поэкспериментировать с [другими методами оптимизации](https://habr.com/ru/company/prequel/blog/568496/), но это не обязательно для зачета.\n"
   ]
  }
 ],
 "metadata": {
  "colab": {
   "collapsed_sections": [],
   "name": "HW_7_upd",
   "provenance": []
  },
  "kernelspec": {
   "display_name": "Python 3",
   "language": "python",
   "name": "python3"
  },
  "language_info": {
   "codemirror_mode": {
    "name": "ipython",
    "version": 3
   },
   "file_extension": ".py",
   "mimetype": "text/x-python",
   "name": "python",
   "nbconvert_exporter": "python",
   "pygments_lexer": "ipython3",
   "version": "3.6.2"
  }
 },
 "nbformat": 4,
 "nbformat_minor": 1
}
