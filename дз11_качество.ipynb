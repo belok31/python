{
 "cells": [
  {
   "cell_type": "code",
   "execution_count": 82,
   "id": "da5cdff7",
   "metadata": {},
   "outputs": [
    {
     "data": {
      "text/html": [
       "<div>\n",
       "<style scoped>\n",
       "    .dataframe tbody tr th:only-of-type {\n",
       "        vertical-align: middle;\n",
       "    }\n",
       "\n",
       "    .dataframe tbody tr th {\n",
       "        vertical-align: top;\n",
       "    }\n",
       "\n",
       "    .dataframe thead th {\n",
       "        text-align: right;\n",
       "    }\n",
       "</style>\n",
       "<table border=\"1\" class=\"dataframe\">\n",
       "  <thead>\n",
       "    <tr style=\"text-align: right;\">\n",
       "      <th></th>\n",
       "      <th>Age</th>\n",
       "      <th>Sex</th>\n",
       "      <th>ChestPainType</th>\n",
       "      <th>RestingBP</th>\n",
       "      <th>Cholesterol</th>\n",
       "      <th>FastingBS</th>\n",
       "      <th>RestingECG</th>\n",
       "      <th>MaxHR</th>\n",
       "      <th>ExerciseAngina</th>\n",
       "      <th>Oldpeak</th>\n",
       "      <th>ST_Slope</th>\n",
       "      <th>HeartDisease</th>\n",
       "    </tr>\n",
       "  </thead>\n",
       "  <tbody>\n",
       "    <tr>\n",
       "      <th>0</th>\n",
       "      <td>40</td>\n",
       "      <td>M</td>\n",
       "      <td>ATA</td>\n",
       "      <td>140</td>\n",
       "      <td>289</td>\n",
       "      <td>0</td>\n",
       "      <td>Normal</td>\n",
       "      <td>172</td>\n",
       "      <td>N</td>\n",
       "      <td>0.0</td>\n",
       "      <td>Up</td>\n",
       "      <td>0</td>\n",
       "    </tr>\n",
       "    <tr>\n",
       "      <th>1</th>\n",
       "      <td>49</td>\n",
       "      <td>F</td>\n",
       "      <td>NAP</td>\n",
       "      <td>160</td>\n",
       "      <td>180</td>\n",
       "      <td>0</td>\n",
       "      <td>Normal</td>\n",
       "      <td>156</td>\n",
       "      <td>N</td>\n",
       "      <td>1.0</td>\n",
       "      <td>Flat</td>\n",
       "      <td>1</td>\n",
       "    </tr>\n",
       "    <tr>\n",
       "      <th>2</th>\n",
       "      <td>37</td>\n",
       "      <td>M</td>\n",
       "      <td>ATA</td>\n",
       "      <td>130</td>\n",
       "      <td>283</td>\n",
       "      <td>0</td>\n",
       "      <td>ST</td>\n",
       "      <td>98</td>\n",
       "      <td>N</td>\n",
       "      <td>0.0</td>\n",
       "      <td>Up</td>\n",
       "      <td>0</td>\n",
       "    </tr>\n",
       "    <tr>\n",
       "      <th>3</th>\n",
       "      <td>48</td>\n",
       "      <td>F</td>\n",
       "      <td>ASY</td>\n",
       "      <td>138</td>\n",
       "      <td>214</td>\n",
       "      <td>0</td>\n",
       "      <td>Normal</td>\n",
       "      <td>108</td>\n",
       "      <td>Y</td>\n",
       "      <td>1.5</td>\n",
       "      <td>Flat</td>\n",
       "      <td>1</td>\n",
       "    </tr>\n",
       "    <tr>\n",
       "      <th>4</th>\n",
       "      <td>54</td>\n",
       "      <td>M</td>\n",
       "      <td>NAP</td>\n",
       "      <td>150</td>\n",
       "      <td>195</td>\n",
       "      <td>0</td>\n",
       "      <td>Normal</td>\n",
       "      <td>122</td>\n",
       "      <td>N</td>\n",
       "      <td>0.0</td>\n",
       "      <td>Up</td>\n",
       "      <td>0</td>\n",
       "    </tr>\n",
       "  </tbody>\n",
       "</table>\n",
       "</div>"
      ],
      "text/plain": [
       "   Age Sex ChestPainType  RestingBP  Cholesterol  FastingBS RestingECG  MaxHR  \\\n",
       "0   40   M           ATA        140          289          0     Normal    172   \n",
       "1   49   F           NAP        160          180          0     Normal    156   \n",
       "2   37   M           ATA        130          283          0         ST     98   \n",
       "3   48   F           ASY        138          214          0     Normal    108   \n",
       "4   54   M           NAP        150          195          0     Normal    122   \n",
       "\n",
       "  ExerciseAngina  Oldpeak ST_Slope  HeartDisease  \n",
       "0              N      0.0       Up             0  \n",
       "1              N      1.0     Flat             1  \n",
       "2              N      0.0       Up             0  \n",
       "3              Y      1.5     Flat             1  \n",
       "4              N      0.0       Up             0  "
      ]
     },
     "execution_count": 82,
     "metadata": {},
     "output_type": "execute_result"
    }
   ],
   "source": [
    "import pandas as pd\n",
    "df = pd.read_csv('heart.csv')\n",
    "df.head()"
   ]
  },
  {
   "cell_type": "markdown",
   "id": "824c9ce7",
   "metadata": {},
   "source": [
    "Преобразуем категориальные переменные"
   ]
  },
  {
   "cell_type": "code",
   "execution_count": 83,
   "id": "e8014fcf",
   "metadata": {},
   "outputs": [
    {
     "name": "stdout",
     "output_type": "stream",
     "text": [
      "<class 'pandas.core.frame.DataFrame'>\n",
      "RangeIndex: 918 entries, 0 to 917\n",
      "Data columns (total 12 columns):\n",
      " #   Column          Non-Null Count  Dtype  \n",
      "---  ------          --------------  -----  \n",
      " 0   Age             918 non-null    int64  \n",
      " 1   Sex             918 non-null    int32  \n",
      " 2   ChestPainType   918 non-null    int32  \n",
      " 3   RestingBP       918 non-null    int64  \n",
      " 4   Cholesterol     918 non-null    int64  \n",
      " 5   FastingBS       918 non-null    int64  \n",
      " 6   RestingECG      918 non-null    int32  \n",
      " 7   MaxHR           918 non-null    int64  \n",
      " 8   ExerciseAngina  918 non-null    int32  \n",
      " 9   Oldpeak         918 non-null    float64\n",
      " 10  ST_Slope        918 non-null    int32  \n",
      " 11  HeartDisease    918 non-null    int64  \n",
      "dtypes: float64(1), int32(5), int64(6)\n",
      "memory usage: 68.3 KB\n"
     ]
    }
   ],
   "source": [
    "from sklearn.preprocessing import LabelEncoder\n",
    "le = LabelEncoder()\n",
    "df['Sex'] = le.fit_transform(df['Sex'])\n",
    "df['ChestPainType'] = le.fit_transform(df['ChestPainType'])\n",
    "df['RestingECG'] = le.fit_transform(df['RestingECG'])\n",
    "df['ExerciseAngina'] = le.fit_transform(df['ExerciseAngina'])\n",
    "df['ST_Slope'] = le.fit_transform(df['ST_Slope'])\n",
    "df.info()"
   ]
  },
  {
   "cell_type": "code",
   "execution_count": 84,
   "id": "3e309552",
   "metadata": {},
   "outputs": [],
   "source": [
    "from sklearn.model_selection import train_test_split\n",
    "y = df['HeartDisease']\n",
    "X = df.drop('HeartDisease',axis=1)\n",
    "X_train, X_test, y_train, y_test = train_test_split(X, y, test_size=0.2, random_state=42)"
   ]
  },
  {
   "cell_type": "code",
   "execution_count": 85,
   "id": "8be3b230",
   "metadata": {},
   "outputs": [],
   "source": [
    "from sklearn.preprocessing import StandardScaler\n",
    "scaler = StandardScaler().fit(X_train)\n",
    "X_train_transformed = scaler.transform(X_train)\n",
    "X_test_transformed = scaler.transform(X_test)"
   ]
  },
  {
   "cell_type": "markdown",
   "id": "74e484dc",
   "metadata": {},
   "source": [
    "Обучаем логистическую регрессию"
   ]
  },
  {
   "cell_type": "code",
   "execution_count": 86,
   "id": "baeecd88",
   "metadata": {},
   "outputs": [],
   "source": [
    "from sklearn.linear_model import LogisticRegression\n",
    "clf = LogisticRegression(random_state=0).fit(X_train_transformed, y_train)"
   ]
  },
  {
   "cell_type": "code",
   "execution_count": 87,
   "id": "a6e09345",
   "metadata": {},
   "outputs": [
    {
     "name": "stdout",
     "output_type": "stream",
     "text": [
      "fit_time 0.006\n",
      "score_time 0.003\n",
      "test_accuracy 0.81\n",
      "test_recall 0.841\n",
      "test_precision 0.837\n",
      "test_f1 0.837\n"
     ]
    }
   ],
   "source": [
    "from sklearn.model_selection import cross_validate\n",
    "scores = cross_validate(clf, X_test_transformed, y_test, cv=10, scoring=['accuracy','recall','precision','f1'])\n",
    "for key, value in scores.items():\n",
    "    a1 = round(value.mean(),3)\n",
    "    print(key, a1)"
   ]
  },
  {
   "cell_type": "markdown",
   "id": "595b254d",
   "metadata": {},
   "source": [
    "Подбираем параметры для логистической регрессии"
   ]
  },
  {
   "cell_type": "code",
   "execution_count": 88,
   "id": "c485b9d5",
   "metadata": {},
   "outputs": [
    {
     "name": "stdout",
     "output_type": "stream",
     "text": [
      "Fitting 10 folds for each of 16 candidates, totalling 160 fits\n"
     ]
    },
    {
     "data": {
      "text/plain": [
       "{'C': 0.25, 'intercept_scaling': 0}"
      ]
     },
     "execution_count": 88,
     "metadata": {},
     "output_type": "execute_result"
    }
   ],
   "source": [
    "from sklearn.model_selection import GridSearchCV\n",
    "grid_params = {'C': [0.25,0.5,0.75,1], 'intercept_scaling': [0,1,2,3]}\n",
    "grid = GridSearchCV(LogisticRegression(random_state=0), grid_params, cv= 10, n_jobs=-1, verbose=True)\n",
    "grid.fit(X_train_transformed, y_train)\n",
    "grid.best_params_"
   ]
  },
  {
   "cell_type": "code",
   "execution_count": 89,
   "id": "3ba9a17e",
   "metadata": {},
   "outputs": [
    {
     "name": "stdout",
     "output_type": "stream",
     "text": [
      "fit_time 0.003\n",
      "score_time 0.006\n",
      "test_accuracy 0.82\n",
      "test_recall 0.841\n",
      "test_precision 0.853\n",
      "test_f1 0.845\n"
     ]
    }
   ],
   "source": [
    "clf = LogisticRegression(C=0.25, intercept_scaling=0, random_state=0).fit(X_train_transformed, y_train)\n",
    "scores1 = cross_validate(clf, X_test_transformed, y_test, cv=10, scoring=['accuracy','recall','precision','f1'])\n",
    "for key, value in scores1.items():\n",
    "    print(key, round(value.mean(),3))"
   ]
  },
  {
   "cell_type": "code",
   "execution_count": 90,
   "id": "2552ec99",
   "metadata": {},
   "outputs": [
    {
     "name": "stdout",
     "output_type": "stream",
     "text": [
      "Fitting 10 folds for each of 10 candidates, totalling 100 fits\n"
     ]
    },
    {
     "data": {
      "text/plain": [
       "{'intercept_scaling': 1, 'C': 0.25}"
      ]
     },
     "execution_count": 90,
     "metadata": {},
     "output_type": "execute_result"
    }
   ],
   "source": [
    "from sklearn.model_selection import RandomizedSearchCV\n",
    "rand = RandomizedSearchCV(LogisticRegression(random_state=0), grid_params, cv= 10, n_jobs=-1, verbose=True)\n",
    "rand.fit(X_train_transformed, y_train)\n",
    "rand.best_params_"
   ]
  },
  {
   "cell_type": "code",
   "execution_count": 91,
   "id": "00de59c4",
   "metadata": {},
   "outputs": [
    {
     "name": "stdout",
     "output_type": "stream",
     "text": [
      "fit_time 0.004\n",
      "score_time 0.004\n",
      "test_accuracy 0.82\n",
      "test_recall 0.841\n",
      "test_precision 0.853\n",
      "test_f1 0.845\n"
     ]
    }
   ],
   "source": [
    "clf = LogisticRegression(C=0.25, intercept_scaling=1, random_state=0).fit(X_train_transformed, y_train)\n",
    "scores2 = cross_validate(clf, X_test_transformed, y_test, cv=10, scoring=['accuracy','recall','precision','f1'])\n",
    "for key, value in scores2.items():\n",
    "    a2 = round(value.mean(),3)\n",
    "    print(key, a2)"
   ]
  },
  {
   "cell_type": "markdown",
   "id": "18384d35",
   "metadata": {},
   "source": [
    "Подбираем параметры и обучаем SVC"
   ]
  },
  {
   "cell_type": "code",
   "execution_count": 92,
   "id": "0eaf167d",
   "metadata": {},
   "outputs": [
    {
     "name": "stderr",
     "output_type": "stream",
     "text": [
      "C:\\ProgramData\\Anaconda3\\lib\\site-packages\\sklearn\\model_selection\\_search.py:285: UserWarning: The total space of parameters 3 is smaller than n_iter=10. Running 3 iterations. For exhaustive searches, use GridSearchCV.\n",
      "  warnings.warn(\n"
     ]
    },
    {
     "name": "stdout",
     "output_type": "stream",
     "text": [
      "Fitting 5 folds for each of 3 candidates, totalling 15 fits\n"
     ]
    },
    {
     "data": {
      "text/plain": [
       "{'kernel': 'linear', 'C': 2}"
      ]
     },
     "execution_count": 92,
     "metadata": {},
     "output_type": "execute_result"
    }
   ],
   "source": [
    "from sklearn.svm import SVC\n",
    "svc_params = {'C': [1, 2, 3], 'kernel':['linear']}\n",
    "svc_grid = RandomizedSearchCV(SVC(), svc_params, cv= 5, n_jobs=-1, verbose=True)\n",
    "svc_grid.fit(X_train_transformed, y_train)\n",
    "svc_grid.best_params_"
   ]
  },
  {
   "cell_type": "code",
   "execution_count": 93,
   "id": "1a9ffadb",
   "metadata": {},
   "outputs": [
    {
     "name": "stdout",
     "output_type": "stream",
     "text": [
      "fit_time 0.005\n",
      "score_time 0.002\n",
      "test_accuracy 0.842\n",
      "test_recall 0.841\n",
      "test_precision 0.889\n",
      "test_f1 0.861\n"
     ]
    }
   ],
   "source": [
    "svc = SVC(C=2, kernel='linear')\n",
    "scores3 = cross_validate(svc, X_test_transformed, y_test, cv=10, scoring=['accuracy','recall','precision','f1'])\n",
    "for key, value in scores3.items():\n",
    "    a3 = round(value.mean(),3)\n",
    "    print(key, a3)"
   ]
  },
  {
   "cell_type": "markdown",
   "id": "80761c9d",
   "metadata": {},
   "source": [
    "Подбираем параметры и обучаем случайный лес"
   ]
  },
  {
   "cell_type": "code",
   "execution_count": 94,
   "id": "f015a406",
   "metadata": {},
   "outputs": [
    {
     "name": "stdout",
     "output_type": "stream",
     "text": [
      "Fitting 5 folds for each of 10 candidates, totalling 50 fits\n"
     ]
    },
    {
     "data": {
      "text/plain": [
       "{'max_features': 5, 'max_depth': 5}"
      ]
     },
     "execution_count": 94,
     "metadata": {},
     "output_type": "execute_result"
    }
   ],
   "source": [
    "from sklearn.ensemble import RandomForestClassifier\n",
    "forest = RandomForestClassifier(n_estimators=100, n_jobs=-1, random_state=17)\n",
    "forest_params = {'max_depth': range(1,15),'max_features': range(4,11)}\n",
    "forest_grid = RandomizedSearchCV(forest, forest_params, cv=5, n_jobs=-1, verbose=True)\n",
    "forest_grid.fit(X_train_transformed, y_train)\n",
    "forest_grid.best_params_"
   ]
  },
  {
   "cell_type": "code",
   "execution_count": 100,
   "id": "86acdf1c",
   "metadata": {},
   "outputs": [
    {
     "name": "stdout",
     "output_type": "stream",
     "text": [
      "fit_time 0.127\n",
      "score_time 0.019\n",
      "test_accuracy 0.908\n",
      "test_recall 0.925\n",
      "test_precision 0.923\n",
      "test_f1 0.922\n"
     ]
    }
   ],
   "source": [
    "forest = RandomForestClassifier(n_estimators=100, max_depth=16, max_features=6, n_jobs=-1, random_state=17)\n",
    "scores4 = cross_validate(forest, X_test_transformed, y_test, cv=10, scoring=['accuracy','recall','precision','f1'])\n",
    "for key, value in scores4.items():\n",
    "    a4 = round(value.mean(),3)\n",
    "    print(key, a4)"
   ]
  },
  {
   "cell_type": "code",
   "execution_count": 101,
   "id": "01d897d6",
   "metadata": {},
   "outputs": [
    {
     "data": {
      "text/html": [
       "<div>\n",
       "<style scoped>\n",
       "    .dataframe tbody tr th:only-of-type {\n",
       "        vertical-align: middle;\n",
       "    }\n",
       "\n",
       "    .dataframe tbody tr th {\n",
       "        vertical-align: top;\n",
       "    }\n",
       "\n",
       "    .dataframe thead th {\n",
       "        text-align: right;\n",
       "    }\n",
       "</style>\n",
       "<table border=\"1\" class=\"dataframe\">\n",
       "  <thead>\n",
       "    <tr style=\"text-align: right;\">\n",
       "      <th></th>\n",
       "      <th>Модель</th>\n",
       "      <th>f1-score</th>\n",
       "    </tr>\n",
       "  </thead>\n",
       "  <tbody>\n",
       "    <tr>\n",
       "      <th>0</th>\n",
       "      <td>Логистическая регрессия без оптимизации</td>\n",
       "      <td>0.837</td>\n",
       "    </tr>\n",
       "    <tr>\n",
       "      <th>1</th>\n",
       "      <td>Логистическая регрессия с оптимизацией</td>\n",
       "      <td>0.845</td>\n",
       "    </tr>\n",
       "    <tr>\n",
       "      <th>2</th>\n",
       "      <td>SVM с оптимизацией</td>\n",
       "      <td>0.861</td>\n",
       "    </tr>\n",
       "    <tr>\n",
       "      <th>3</th>\n",
       "      <td>Случайный лес с оптимизацией</td>\n",
       "      <td>0.922</td>\n",
       "    </tr>\n",
       "  </tbody>\n",
       "</table>\n",
       "</div>"
      ],
      "text/plain": [
       "                                    Модель  f1-score\n",
       "0  Логистическая регрессия без оптимизации     0.837\n",
       "1   Логистическая регрессия с оптимизацией     0.845\n",
       "2                       SVM с оптимизацией     0.861\n",
       "3             Случайный лес с оптимизацией     0.922"
      ]
     },
     "execution_count": 101,
     "metadata": {},
     "output_type": "execute_result"
    }
   ],
   "source": [
    "f1 = pd.DataFrame([['Логистическая регрессия без оптимизации',a1],\n",
    "                  ['Логистическая регрессия с оптимизацией',a2],\n",
    "                  ['SVM с оптимизацией',a3],\n",
    "                  ['Случайный лес с оптимизацией',a4]],\n",
    "columns=['Модель','f1-score'])\n",
    "f1"
   ]
  },
  {
   "cell_type": "markdown",
   "id": "8f9c82a4",
   "metadata": {},
   "source": [
    "Лучший результат показал случайный лес. Поскольку в дз \"Ансамблирование\" аналогично подбирались оптимальные параметры алгоритмов, результат там был такой же."
   ]
  },
  {
   "cell_type": "code",
   "execution_count": null,
   "id": "6bdd2d8e",
   "metadata": {},
   "outputs": [],
   "source": []
  }
 ],
 "metadata": {
  "kernelspec": {
   "display_name": "Python 3",
   "language": "python",
   "name": "python3"
  },
  "language_info": {
   "codemirror_mode": {
    "name": "ipython",
    "version": 3
   },
   "file_extension": ".py",
   "mimetype": "text/x-python",
   "name": "python",
   "nbconvert_exporter": "python",
   "pygments_lexer": "ipython3",
   "version": "3.8.8"
  }
 },
 "nbformat": 4,
 "nbformat_minor": 5
}
