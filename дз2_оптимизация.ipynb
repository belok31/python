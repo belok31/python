{
 "cells": [
  {
   "cell_type": "markdown",
   "metadata": {},
   "source": [
    "Загружаем данные"
   ]
  },
  {
   "cell_type": "code",
   "execution_count": 165,
   "metadata": {
    "collapsed": true
   },
   "outputs": [],
   "source": [
    "import numpy as np\n",
    "from sklearn.datasets import load_iris\n",
    "iris = load_iris()"
   ]
  },
  {
   "cell_type": "code",
   "execution_count": 166,
   "metadata": {},
   "outputs": [
    {
     "data": {
      "text/plain": [
       "array([0, 0, 0, 0, 0, 0, 0, 0, 0, 0, 0, 0, 0, 0, 0, 0, 0, 0, 0, 0, 0, 0, 0,\n",
       "       0, 0, 0, 0, 0, 0, 0, 0, 0, 0, 0, 0, 0, 0, 0, 0, 0, 0, 0, 0, 0, 0, 0,\n",
       "       0, 0, 0, 0, 1, 1, 1, 1, 1, 1, 1, 1, 1, 1, 1, 1, 1, 1, 1, 1, 1, 1, 1,\n",
       "       1, 1, 1, 1, 1, 1, 1, 1, 1, 1, 1, 1, 1, 1, 1, 1, 1, 1, 1, 1, 1, 1, 1,\n",
       "       1, 1, 1, 1, 1, 1, 1, 1])"
      ]
     },
     "execution_count": 166,
     "metadata": {},
     "output_type": "execute_result"
    }
   ],
   "source": [
    "X = iris.data[50:,:]\n",
    "y = iris.target[50:]-1\n",
    "y"
   ]
  },
  {
   "cell_type": "code",
   "execution_count": 167,
   "metadata": {},
   "outputs": [
    {
     "data": {
      "text/plain": [
       "array([[ 1. ,  7. ,  3.2,  4.7,  1.4],\n",
       "       [ 1. ,  6.4,  3.2,  4.5,  1.5],\n",
       "       [ 1. ,  6.9,  3.1,  4.9,  1.5],\n",
       "       [ 1. ,  5.5,  2.3,  4. ,  1.3],\n",
       "       [ 1. ,  6.5,  2.8,  4.6,  1.5],\n",
       "       [ 1. ,  5.7,  2.8,  4.5,  1.3],\n",
       "       [ 1. ,  6.3,  3.3,  4.7,  1.6],\n",
       "       [ 1. ,  4.9,  2.4,  3.3,  1. ],\n",
       "       [ 1. ,  6.6,  2.9,  4.6,  1.3],\n",
       "       [ 1. ,  5.2,  2.7,  3.9,  1.4],\n",
       "       [ 1. ,  5. ,  2. ,  3.5,  1. ],\n",
       "       [ 1. ,  5.9,  3. ,  4.2,  1.5],\n",
       "       [ 1. ,  6. ,  2.2,  4. ,  1. ],\n",
       "       [ 1. ,  6.1,  2.9,  4.7,  1.4],\n",
       "       [ 1. ,  5.6,  2.9,  3.6,  1.3],\n",
       "       [ 1. ,  6.7,  3.1,  4.4,  1.4],\n",
       "       [ 1. ,  5.6,  3. ,  4.5,  1.5],\n",
       "       [ 1. ,  5.8,  2.7,  4.1,  1. ],\n",
       "       [ 1. ,  6.2,  2.2,  4.5,  1.5],\n",
       "       [ 1. ,  5.6,  2.5,  3.9,  1.1],\n",
       "       [ 1. ,  5.9,  3.2,  4.8,  1.8],\n",
       "       [ 1. ,  6.1,  2.8,  4. ,  1.3],\n",
       "       [ 1. ,  6.3,  2.5,  4.9,  1.5],\n",
       "       [ 1. ,  6.1,  2.8,  4.7,  1.2],\n",
       "       [ 1. ,  6.4,  2.9,  4.3,  1.3],\n",
       "       [ 1. ,  6.6,  3. ,  4.4,  1.4],\n",
       "       [ 1. ,  6.8,  2.8,  4.8,  1.4],\n",
       "       [ 1. ,  6.7,  3. ,  5. ,  1.7],\n",
       "       [ 1. ,  6. ,  2.9,  4.5,  1.5],\n",
       "       [ 1. ,  5.7,  2.6,  3.5,  1. ],\n",
       "       [ 1. ,  5.5,  2.4,  3.8,  1.1],\n",
       "       [ 1. ,  5.5,  2.4,  3.7,  1. ],\n",
       "       [ 1. ,  5.8,  2.7,  3.9,  1.2],\n",
       "       [ 1. ,  6. ,  2.7,  5.1,  1.6],\n",
       "       [ 1. ,  5.4,  3. ,  4.5,  1.5],\n",
       "       [ 1. ,  6. ,  3.4,  4.5,  1.6],\n",
       "       [ 1. ,  6.7,  3.1,  4.7,  1.5],\n",
       "       [ 1. ,  6.3,  2.3,  4.4,  1.3],\n",
       "       [ 1. ,  5.6,  3. ,  4.1,  1.3],\n",
       "       [ 1. ,  5.5,  2.5,  4. ,  1.3],\n",
       "       [ 1. ,  5.5,  2.6,  4.4,  1.2],\n",
       "       [ 1. ,  6.1,  3. ,  4.6,  1.4],\n",
       "       [ 1. ,  5.8,  2.6,  4. ,  1.2],\n",
       "       [ 1. ,  5. ,  2.3,  3.3,  1. ],\n",
       "       [ 1. ,  5.6,  2.7,  4.2,  1.3],\n",
       "       [ 1. ,  5.7,  3. ,  4.2,  1.2],\n",
       "       [ 1. ,  5.7,  2.9,  4.2,  1.3],\n",
       "       [ 1. ,  6.2,  2.9,  4.3,  1.3],\n",
       "       [ 1. ,  5.1,  2.5,  3. ,  1.1],\n",
       "       [ 1. ,  5.7,  2.8,  4.1,  1.3],\n",
       "       [ 1. ,  6.3,  3.3,  6. ,  2.5],\n",
       "       [ 1. ,  5.8,  2.7,  5.1,  1.9],\n",
       "       [ 1. ,  7.1,  3. ,  5.9,  2.1],\n",
       "       [ 1. ,  6.3,  2.9,  5.6,  1.8],\n",
       "       [ 1. ,  6.5,  3. ,  5.8,  2.2],\n",
       "       [ 1. ,  7.6,  3. ,  6.6,  2.1],\n",
       "       [ 1. ,  4.9,  2.5,  4.5,  1.7],\n",
       "       [ 1. ,  7.3,  2.9,  6.3,  1.8],\n",
       "       [ 1. ,  6.7,  2.5,  5.8,  1.8],\n",
       "       [ 1. ,  7.2,  3.6,  6.1,  2.5],\n",
       "       [ 1. ,  6.5,  3.2,  5.1,  2. ],\n",
       "       [ 1. ,  6.4,  2.7,  5.3,  1.9],\n",
       "       [ 1. ,  6.8,  3. ,  5.5,  2.1],\n",
       "       [ 1. ,  5.7,  2.5,  5. ,  2. ],\n",
       "       [ 1. ,  5.8,  2.8,  5.1,  2.4],\n",
       "       [ 1. ,  6.4,  3.2,  5.3,  2.3],\n",
       "       [ 1. ,  6.5,  3. ,  5.5,  1.8],\n",
       "       [ 1. ,  7.7,  3.8,  6.7,  2.2],\n",
       "       [ 1. ,  7.7,  2.6,  6.9,  2.3],\n",
       "       [ 1. ,  6. ,  2.2,  5. ,  1.5],\n",
       "       [ 1. ,  6.9,  3.2,  5.7,  2.3],\n",
       "       [ 1. ,  5.6,  2.8,  4.9,  2. ],\n",
       "       [ 1. ,  7.7,  2.8,  6.7,  2. ],\n",
       "       [ 1. ,  6.3,  2.7,  4.9,  1.8],\n",
       "       [ 1. ,  6.7,  3.3,  5.7,  2.1],\n",
       "       [ 1. ,  7.2,  3.2,  6. ,  1.8],\n",
       "       [ 1. ,  6.2,  2.8,  4.8,  1.8],\n",
       "       [ 1. ,  6.1,  3. ,  4.9,  1.8],\n",
       "       [ 1. ,  6.4,  2.8,  5.6,  2.1],\n",
       "       [ 1. ,  7.2,  3. ,  5.8,  1.6],\n",
       "       [ 1. ,  7.4,  2.8,  6.1,  1.9],\n",
       "       [ 1. ,  7.9,  3.8,  6.4,  2. ],\n",
       "       [ 1. ,  6.4,  2.8,  5.6,  2.2],\n",
       "       [ 1. ,  6.3,  2.8,  5.1,  1.5],\n",
       "       [ 1. ,  6.1,  2.6,  5.6,  1.4],\n",
       "       [ 1. ,  7.7,  3. ,  6.1,  2.3],\n",
       "       [ 1. ,  6.3,  3.4,  5.6,  2.4],\n",
       "       [ 1. ,  6.4,  3.1,  5.5,  1.8],\n",
       "       [ 1. ,  6. ,  3. ,  4.8,  1.8],\n",
       "       [ 1. ,  6.9,  3.1,  5.4,  2.1],\n",
       "       [ 1. ,  6.7,  3.1,  5.6,  2.4],\n",
       "       [ 1. ,  6.9,  3.1,  5.1,  2.3],\n",
       "       [ 1. ,  5.8,  2.7,  5.1,  1.9],\n",
       "       [ 1. ,  6.8,  3.2,  5.9,  2.3],\n",
       "       [ 1. ,  6.7,  3.3,  5.7,  2.5],\n",
       "       [ 1. ,  6.7,  3. ,  5.2,  2.3],\n",
       "       [ 1. ,  6.3,  2.5,  5. ,  1.9],\n",
       "       [ 1. ,  6.5,  3. ,  5.2,  2. ],\n",
       "       [ 1. ,  6.2,  3.4,  5.4,  2.3],\n",
       "       [ 1. ,  5.9,  3. ,  5.1,  1.8]])"
      ]
     },
     "execution_count": 167,
     "metadata": {},
     "output_type": "execute_result"
    }
   ],
   "source": [
    "X = np.c_[np.ones(len(X)), X]\n",
    "X"
   ]
  },
  {
   "cell_type": "markdown",
   "metadata": {},
   "source": [
    "Стандартизируем признаки"
   ]
  },
  {
   "cell_type": "code",
   "execution_count": 168,
   "metadata": {
    "collapsed": true
   },
   "outputs": [],
   "source": [
    "from sklearn.preprocessing import StandardScaler\n",
    "scaler = StandardScaler()\n",
    "X = scaler.fit_transform(X)"
   ]
  },
  {
   "cell_type": "markdown",
   "metadata": {},
   "source": [
    "Делим на обучающую и тестовую выборки"
   ]
  },
  {
   "cell_type": "code",
   "execution_count": 169,
   "metadata": {
    "collapsed": true
   },
   "outputs": [],
   "source": [
    "from sklearn.model_selection import train_test_split\n",
    "X_train, X_test, y_train, y_test = train_test_split(X, y, test_size=0.3, random_state=11)"
   ]
  },
  {
   "cell_type": "markdown",
   "metadata": {},
   "source": [
    "Функция логистической регрессии"
   ]
  },
  {
   "cell_type": "code",
   "execution_count": 170,
   "metadata": {
    "collapsed": true
   },
   "outputs": [],
   "source": [
    "def sigma(X, w):\n",
    "    f = X @ w\n",
    "    return 1 / (1 + np.exp(-f))"
   ]
  },
  {
   "cell_type": "markdown",
   "metadata": {},
   "source": [
    "Обучаем регрессию методом градиентного спуска"
   ]
  },
  {
   "cell_type": "code",
   "execution_count": 171,
   "metadata": {},
   "outputs": [
    {
     "name": "stdout",
     "output_type": "stream",
     "text": [
      "Wall time: 10 ms\n"
     ]
    }
   ],
   "source": [
    "%%time\n",
    "iter = 300\n",
    "learn_rate = 0.01\n",
    "eps = 0.0001\n",
    "n = len(X_train)\n",
    "w, prew_grad = np.zeros(len(X[0])), np.zeros(len(X[0]))\n",
    "for _ in range(iter):\n",
    "    grad = ((sigma(X_train, w) - y_train) @ X_train) / n\n",
    "    w -= learn_rate * grad\n",
    "    if np.linalg.norm(abs(grad - prew_grad)) < eps:\n",
    "        break\n",
    "    prew_grad = grad"
   ]
  },
  {
   "cell_type": "markdown",
   "metadata": {},
   "source": [
    "Функция метрики"
   ]
  },
  {
   "cell_type": "code",
   "execution_count": 172,
   "metadata": {
    "collapsed": true
   },
   "outputs": [],
   "source": [
    "def accur(X,y):\n",
    "    classif = np.where(sigma(X,w) > 0.5, 1, 0)\n",
    "    res = 1 - sum(np.abs(classif - y)) / len(y)\n",
    "    return int(res*100000)/100000"
   ]
  },
  {
   "cell_type": "markdown",
   "metadata": {},
   "source": [
    "Проверяем точность предсказания на обучающей и тестовой выборках"
   ]
  },
  {
   "cell_type": "code",
   "execution_count": 173,
   "metadata": {},
   "outputs": [
    {
     "data": {
      "text/plain": [
       "0.94285"
      ]
     },
     "execution_count": 173,
     "metadata": {},
     "output_type": "execute_result"
    }
   ],
   "source": [
    "accur(X_train,y_train)"
   ]
  },
  {
   "cell_type": "code",
   "execution_count": 174,
   "metadata": {},
   "outputs": [
    {
     "data": {
      "text/plain": [
       "0.9"
      ]
     },
     "execution_count": 174,
     "metadata": {},
     "output_type": "execute_result"
    }
   ],
   "source": [
    "accur(X_test,y_test)"
   ]
  },
  {
   "cell_type": "markdown",
   "metadata": {},
   "source": [
    "Обучаем методом RMSProp"
   ]
  },
  {
   "cell_type": "code",
   "execution_count": 177,
   "metadata": {},
   "outputs": [
    {
     "name": "stdout",
     "output_type": "stream",
     "text": [
      "Wall time: 0 ns\n"
     ]
    }
   ],
   "source": [
    "%%time\n",
    "iter = 300\n",
    "epsilon = 1e-8\n",
    "eps = 0.0001\n",
    "EG = 0.01\n",
    "gamma = 0.9\n",
    "nu = 2\n",
    "n = len(X_train)\n",
    "w, prew_grad = np.zeros(len(X[0])), np.zeros(len(X[0]))\n",
    "for _ in range(iter):\n",
    "    grad = ((sigma(X_train, w) - y_train) @ X_train) / n\n",
    "    EG = gamma * EG + (1 - gamma) * grad**2\n",
    "    learn_rate = nu / np.sqrt(EG + epsilon)\n",
    "    w -= learn_rate * grad\n",
    "    if np.linalg.norm(abs(grad - prew_grad)) < eps:\n",
    "        break\n",
    "    prew_grad = grad"
   ]
  },
  {
   "cell_type": "markdown",
   "metadata": {},
   "source": [
    "Считаем метрику для RMSProp"
   ]
  },
  {
   "cell_type": "code",
   "execution_count": 178,
   "metadata": {},
   "outputs": [
    {
     "data": {
      "text/plain": [
       "0.98571"
      ]
     },
     "execution_count": 178,
     "metadata": {},
     "output_type": "execute_result"
    }
   ],
   "source": [
    "accur(X_train,y_train)"
   ]
  },
  {
   "cell_type": "code",
   "execution_count": 179,
   "metadata": {},
   "outputs": [
    {
     "data": {
      "text/plain": [
       "0.93333"
      ]
     },
     "execution_count": 179,
     "metadata": {},
     "output_type": "execute_result"
    }
   ],
   "source": [
    "accur(X_test,y_test)"
   ]
  },
  {
   "cell_type": "markdown",
   "metadata": {},
   "source": [
    "Обучаем методом NAdam"
   ]
  },
  {
   "cell_type": "code",
   "execution_count": 180,
   "metadata": {},
   "outputs": [
    {
     "name": "stdout",
     "output_type": "stream",
     "text": [
      "Wall time: 0 ns\n"
     ]
    }
   ],
   "source": [
    "%%time\n",
    "iter = 300\n",
    "beta1 = 0.9\n",
    "beta2 = 0.999\n",
    "epsilon = 1e-8\n",
    "eps = 0.0001\n",
    "nu = 500\n",
    "n = len(X_train)\n",
    "v = []\n",
    "m, w, prew_grad = np.zeros(len(X[0])), np.zeros(len(X[0])), np.zeros(len(X[0]))\n",
    "for i in range(iter):\n",
    "    grad = np.array(((sigma(X_train, w) - y_train) @ X_train) / n)\n",
    "    m = beta1 * m + (1 - beta1) * grad\n",
    "    list(map(lambda x: x * beta2, v))\n",
    "    v.append(np.linalg.norm(grad))\n",
    "    w -= nu / np.sqrt(max(v) + epsilon) * m\n",
    "    if np.linalg.norm(abs(grad - prew_grad)) < eps:\n",
    "        break\n",
    "    prew_grad = grad"
   ]
  },
  {
   "cell_type": "markdown",
   "metadata": {},
   "source": [
    "Считаем метрику для NAdam"
   ]
  },
  {
   "cell_type": "code",
   "execution_count": 182,
   "metadata": {},
   "outputs": [
    {
     "data": {
      "text/plain": [
       "0.95714"
      ]
     },
     "execution_count": 182,
     "metadata": {},
     "output_type": "execute_result"
    }
   ],
   "source": [
    "accur(X_train,y_train)"
   ]
  },
  {
   "cell_type": "code",
   "execution_count": 183,
   "metadata": {},
   "outputs": [
    {
     "data": {
      "text/plain": [
       "0.93333"
      ]
     },
     "execution_count": 183,
     "metadata": {},
     "output_type": "execute_result"
    }
   ],
   "source": [
    "accur(X_test,y_test)"
   ]
  },
  {
   "cell_type": "code",
   "execution_count": 185,
   "metadata": {},
   "outputs": [
    {
     "data": {
      "text/html": [
       "<div>\n",
       "<style>\n",
       "    .dataframe thead tr:only-child th {\n",
       "        text-align: right;\n",
       "    }\n",
       "\n",
       "    .dataframe thead th {\n",
       "        text-align: left;\n",
       "    }\n",
       "\n",
       "    .dataframe tbody tr th {\n",
       "        vertical-align: top;\n",
       "    }\n",
       "</style>\n",
       "<table border=\"1\" class=\"dataframe\">\n",
       "  <thead>\n",
       "    <tr style=\"text-align: right;\">\n",
       "      <th></th>\n",
       "      <th>Метод</th>\n",
       "      <th>Метрика</th>\n",
       "      <th>Время, мс</th>\n",
       "    </tr>\n",
       "  </thead>\n",
       "  <tbody>\n",
       "    <tr>\n",
       "      <th>0</th>\n",
       "      <td>Метод градиентного спуска</td>\n",
       "      <td>0.90000</td>\n",
       "      <td>10</td>\n",
       "    </tr>\n",
       "    <tr>\n",
       "      <th>1</th>\n",
       "      <td>RMSProp</td>\n",
       "      <td>0.93333</td>\n",
       "      <td>0</td>\n",
       "    </tr>\n",
       "    <tr>\n",
       "      <th>2</th>\n",
       "      <td>NAdam</td>\n",
       "      <td>0.93333</td>\n",
       "      <td>0</td>\n",
       "    </tr>\n",
       "  </tbody>\n",
       "</table>\n",
       "</div>"
      ],
      "text/plain": [
       "                       Метод  Метрика  Время, мс\n",
       "0  Метод градиентного спуска  0.90000         10\n",
       "1                    RMSProp  0.93333          0\n",
       "2                      NAdam  0.93333          0"
      ]
     },
     "execution_count": 185,
     "metadata": {},
     "output_type": "execute_result"
    }
   ],
   "source": [
    "import pandas as pd\n",
    "df = pd.DataFrame([['Метод градиентного спуска',0.9, 10],\n",
    "                  ['RMSProp',0.93333, 0],\n",
    "                  ['NAdam',0.93333, 0]], \n",
    "columns=['Метод','Метрика', 'Время, мс'])\n",
    "df"
   ]
  },
  {
   "cell_type": "markdown",
   "metadata": {},
   "source": [
    "**Вывод**\n",
    "\n",
    "На рассмотренном наборе данных все 3 алгоритма показали очень хороший результат. Из-за малого размера датасета не удалось полноценно изучить разницу в метриках и времени исполнения. Тем не менее, понятно, что адаптивные градиентные методы гораздо быстрее и эффективнее классического градиентного спуска. NAdam вышел на минимум всего за 5 итераций. "
   ]
  },
  {
   "cell_type": "code",
   "execution_count": null,
   "metadata": {
    "collapsed": true
   },
   "outputs": [],
   "source": []
  }
 ],
 "metadata": {
  "kernelspec": {
   "display_name": "Python 3",
   "language": "python",
   "name": "python3"
  },
  "language_info": {
   "codemirror_mode": {
    "name": "ipython",
    "version": 3
   },
   "file_extension": ".py",
   "mimetype": "text/x-python",
   "name": "python",
   "nbconvert_exporter": "python",
   "pygments_lexer": "ipython3",
   "version": "3.6.2"
  }
 },
 "nbformat": 4,
 "nbformat_minor": 2
}
