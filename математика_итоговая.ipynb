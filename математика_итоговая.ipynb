{
 "cells": [
  {
   "cell_type": "markdown",
   "metadata": {
    "id": "g1hQiFW7isGe"
   },
   "source": [
    "# Итоговая работа."
   ]
  },
  {
   "cell_type": "code",
   "execution_count": 1,
   "metadata": {
    "collapsed": true,
    "id": "NyZ7GotDi1Mp"
   },
   "outputs": [],
   "source": [
    "import matplotlib.pyplot as plt\n",
    "import numpy as np\n",
    "\n",
    "from scipy.optimize import differential_evolution\n",
    "from scipy.optimize import minimize\n",
    "from scipy.stats import norm\n",
    "%matplotlib inline"
   ]
  },
  {
   "cell_type": "markdown",
   "metadata": {
    "id": "VZFf_auXisJd"
   },
   "source": [
    "## Задание 1"
   ]
  },
  {
   "cell_type": "markdown",
   "metadata": {
    "id": "39rGnTIojFlV"
   },
   "source": [
    "\n",
    "Вычислите производную функции: \n",
    "\n",
    "$tg^2(sin(x) + cos(2x+3))$ \n",
    "\n",
    "в точке $x_0=1$\n"
   ]
  },
  {
   "cell_type": "code",
   "execution_count": 7,
   "metadata": {
    "id": "9NqehLwAL-p6"
   },
   "outputs": [
    {
     "data": {
      "text/plain": [
       "55.3859176464222"
      ]
     },
     "execution_count": 7,
     "metadata": {},
     "output_type": "execute_result"
    }
   ],
   "source": [
    "import math\n",
    "from scipy.misc import derivative\n",
    "\n",
    "def f(x):\n",
    "    return (math.tan(math.sin(x)+math.cos(2*x+3)))**2\n",
    "\n",
    "derivative(f,1.0,dx=1e-6)"
   ]
  },
  {
   "cell_type": "markdown",
   "metadata": {
    "id": "P0dJuDCHlitb"
   },
   "source": [
    "## Задание 2"
   ]
  },
  {
   "cell_type": "markdown",
   "metadata": {
    "id": "9t_CAEu4ljXX"
   },
   "source": [
    "Дан объект в $2D$ пространстве"
   ]
  },
  {
   "cell_type": "code",
   "execution_count": 9,
   "metadata": {
    "colab": {
     "base_uri": "https://localhost:8080/",
     "height": 286
    },
    "id": "jOSkPagdljlG",
    "outputId": "82d8f12e-7f64-4653-fb17-000eb83b0e3c"
   },
   "outputs": [
    {
     "data": {
      "text/plain": [
       "(-200, 200)"
      ]
     },
     "execution_count": 9,
     "metadata": {},
     "output_type": "execute_result"
    },
    {
     "data": {
      "image/png": "[encoded data removed]",
      "text/plain": [
       "<matplotlib.figure.Figure at 0x9649f28>"
      ]
     },
     "metadata": {},
     "output_type": "display_data"
    }
   ],
   "source": [
    "import numpy as np\n",
    "import matplotlib.pyplot as plt\n",
    "\n",
    "A = [\n",
    "[-100, -100, 1],\n",
    "[0, 100, 1],\n",
    "[100, -100, 1],\n",
    "[-100, -100, 1]\n",
    "]\n",
    "\n",
    "A = np.array(A)\n",
    "\n",
    "x = A[:,0]\n",
    "y = A[:,1]\n",
    "plt.plot(x, y)\n",
    "plt.ylim([-200, 200])\n",
    "plt.xlim([-200, 200]) "
   ]
  },
  {
   "cell_type": "markdown",
   "metadata": {},
   "source": [
    "При помощи матричных операций выполните:\n",
    "\n",
    "Масштабирование и смещение объекта (применить 2 матрицы трансформаций). Масштабирование на (0.5, 1.2) и смещение на (200, 300)"
   ]
  },
  {
   "cell_type": "code",
   "execution_count": 11,
   "metadata": {
    "id": "k1J7lbkRlkON"
   },
   "outputs": [
    {
     "data": {
      "text/plain": [
       "(-200, 200)"
      ]
     },
     "execution_count": 11,
     "metadata": {},
     "output_type": "execute_result"
    },
    {
     "data": {
      "image/png": "[encoded data removed]",
      "text/plain": [
       "<matplotlib.figure.Figure at 0x95dea58>"
      ]
     },
     "metadata": {},
     "output_type": "display_data"
    }
   ],
   "source": [
    "# масштабирование\n",
    "B = [[0.5,0,0],\n",
    "     [0,1.2,0],\n",
    "     [0,0,1]]\n",
    "A1 = A @ B\n",
    "x = A1[:,0]\n",
    "y = A1[:,1]\n",
    "plt.plot(x, y)\n",
    "plt.ylim([-200, 200])\n",
    "plt.xlim([-200, 200]) "
   ]
  },
  {
   "cell_type": "code",
   "execution_count": 13,
   "metadata": {},
   "outputs": [
    {
     "data": {
      "text/plain": [
       "(-200, 500)"
      ]
     },
     "execution_count": 13,
     "metadata": {},
     "output_type": "execute_result"
    },
    {
     "data": {
      "image/png": "[encoded data removed]",
      "text/plain": [
       "<matplotlib.figure.Figure at 0x97607f0>"
      ]
     },
     "metadata": {},
     "output_type": "display_data"
    }
   ],
   "source": [
    "# смещение\n",
    "B1 = [[200,300,0],\n",
    "      [200,300,0],\n",
    "      [200,300,0],\n",
    "      [200,300,0]]\n",
    "A2 = A1 + B1\n",
    "x = A2[:,0]\n",
    "y = A2[:,1]\n",
    "plt.plot(x, y)\n",
    "plt.ylim([-200, 500])\n",
    "plt.xlim([-200, 500]) "
   ]
  },
  {
   "cell_type": "markdown",
   "metadata": {
    "id": "QRJEo5ydjFjG"
   },
   "source": [
    "## Задание 3\n"
   ]
  },
  {
   "cell_type": "markdown",
   "metadata": {
    "id": "j1IOvxF8L1v4"
   },
   "source": [
    "Найдите собственные значения и собственные вектора матрицы:"
   ]
  },
  {
   "cell_type": "code",
   "execution_count": 14,
   "metadata": {
    "id": "6aq0Aa8NL4gW"
   },
   "outputs": [
    {
     "name": "stdout",
     "output_type": "stream",
     "text": [
      "[[1 4]\n",
      " [1 1]]\n"
     ]
    }
   ],
   "source": [
    "m = np.array([[1, 4],\n",
    "              [1, 1]])\n",
    "print(m)"
   ]
  },
  {
   "cell_type": "code",
   "execution_count": 17,
   "metadata": {
    "id": "UOAdFwznMdY5"
   },
   "outputs": [
    {
     "name": "stdout",
     "output_type": "stream",
     "text": [
      "собственные значения [ 3. -1.]\n",
      "собственные вектора [[ 0.89442719 -0.89442719]\n",
      " [ 0.4472136   0.4472136 ]]\n"
     ]
    }
   ],
   "source": [
    "res = np.linalg.eig(m)\n",
    "print('собственные значения',res[0])\n",
    "print('собственные вектора',res[1])"
   ]
  },
  {
   "cell_type": "markdown",
   "metadata": {
    "id": "T1y3_xiwjFpC"
   },
   "source": [
    "## Задание 4\n"
   ]
  },
  {
   "cell_type": "markdown",
   "metadata": {
    "id": "iJnhteBQMScA"
   },
   "source": [
    "Дана функция с неизвестными параметрами a и b, вам также известны значения функции `fx` в точках `x`. \n",
    "\n",
    "Найдите оптимальные параметры a, b, минимизирующие абсолютную ошибку `error`.\n"
   ]
  },
  {
   "cell_type": "code",
   "execution_count": 18,
   "metadata": {
    "collapsed": true,
    "id": "eCUHicv7MSix"
   },
   "outputs": [],
   "source": [
    "def f(x, a, b):\n",
    "    return np.e**a * np.sin(b*x) + x"
   ]
  },
  {
   "cell_type": "code",
   "execution_count": 19,
   "metadata": {
    "collapsed": true,
    "id": "99KsJtMSMSk7"
   },
   "outputs": [],
   "source": [
    "x = np.array([0.        , 0.26315789, 0.52631579, 0.78947368, 1.05263158,\n",
    "              1.31578947, 1.57894737, 1.84210526, 2.10526316, 2.36842105,\n",
    "              2.63157895, 2.89473684, 3.15789474, 3.42105263, 3.68421053,\n",
    "              3.94736842, 4.21052632, 4.47368421, 4.73684211, 5.        ])\n",
    "\n",
    "fx = np.array([  0.        , -12.01819092, -18.90968634, -17.68786571,\n",
    "                -8.7529108 ,   4.27524517,  16.06801336,  21.81250213,\n",
    "                19.22059845,   9.48411207,  -3.22273056, -13.48576488,\n",
    "               -16.91096359, -11.95866834,  -0.58630088,  12.56873816,\n",
    "                22.12489421,  24.20292139,  18.04522521,   6.33211092])"
   ]
  },
  {
   "cell_type": "code",
   "execution_count": 20,
   "metadata": {
    "id": "ZVBTEvLlMSnf"
   },
   "outputs": [
    {
     "data": {
      "image/png": "[encoded data removed]",
      "text/plain": [
       "<matplotlib.figure.Figure at 0x9b5ba58>"
      ]
     },
     "metadata": {},
     "output_type": "display_data"
    }
   ],
   "source": [
    "plt.plot(x, fx)\n",
    "plt.show()"
   ]
  },
  {
   "cell_type": "code",
   "execution_count": 26,
   "metadata": {
    "collapsed": true,
    "id": "S_hiJIdNMSpt"
   },
   "outputs": [],
   "source": [
    "def error(params):\n",
    "    return np.sum(np.abs(fx - f(x, params[0], params[1])))"
   ]
  },
  {
   "cell_type": "code",
   "execution_count": 36,
   "metadata": {},
   "outputs": [
    {
     "data": {
      "text/plain": [
       "     fun: 0.076745661115651842\n",
       "   maxcv: 0.0\n",
       " message: 'Optimization terminated successfully.'\n",
       "    nfev: 135\n",
       "  status: 1\n",
       " success: True\n",
       "       x: array([ 3.00018796, -2.50008926])"
      ]
     },
     "execution_count": 36,
     "metadata": {},
     "output_type": "execute_result"
    }
   ],
   "source": [
    "# Используем функцию minimize, которая будет минимизировать функцию ошибки error.\n",
    "# Принимаем начальные значения параметров а=0 и b=0.\n",
    "x0 = [0,0]\n",
    "res1 = minimize(error, x0,  method='COBYLA')\n",
    "res1"
   ]
  },
  {
   "cell_type": "code",
   "execution_count": null,
   "metadata": {
    "collapsed": true
   },
   "outputs": [],
   "source": [
    "# Получили а=3 и b=-2,5. Проверяем на графике:"
   ]
  },
  {
   "cell_type": "code",
   "execution_count": 38,
   "metadata": {},
   "outputs": [
    {
     "data": {
      "image/png": "[encoded data removed]",
      "text/plain": [
       "<matplotlib.figure.Figure at 0xb4fc4a8>"
      ]
     },
     "metadata": {},
     "output_type": "display_data"
    }
   ],
   "source": [
    "plt.plot(x, fx, color='blue')\n",
    "plt.plot(x, f(x, res1.x[0], res1.x[1]), color='red')\n",
    "plt.show()"
   ]
  },
  {
   "cell_type": "code",
   "execution_count": null,
   "metadata": {
    "collapsed": true
   },
   "outputs": [],
   "source": [
    "Параметры а=3 и b=-2,5 оптимальны."
   ]
  },
  {
   "cell_type": "markdown",
   "metadata": {
    "id": "w994ooEPPv5W"
   },
   "source": [
    "## Задание 5\n",
    "\n"
   ]
  },
  {
   "cell_type": "markdown",
   "metadata": {
    "id": "ABMPXsuhisMO"
   },
   "source": [
    "Дана матрица рейтингов фильмов (строки - пользователи (10 человек), столбцы - фильмы (15 фильмов))"
   ]
  },
  {
   "cell_type": "code",
   "execution_count": 39,
   "metadata": {
    "collapsed": true,
    "id": "D4_Vshevi-4P"
   },
   "outputs": [],
   "source": [
    "raitings = np.array([[ 4,  4,  9,  4,  1,  6, 10,  7,  9,  6,  9,  2,  8,  6,  6],\n",
    "                     [ 9,  2,  5, 10,  7,  8, 10,  5,  6,  2,  1,  6,  8,  9,  7],\n",
    "                     [ 1,  6,  8,  8,  4,  9,  3,  8, 10,  5,  2,  6,  8,  1,  6],\n",
    "                     [ 6,  1,  9,  7,  7,  9,  2,  3,  5,  1,  6,  6,  3,  2,  7],\n",
    "                     [ 3,  7,  3,  5,  7,  9,  9,  6,  2,  9,  1,  2,  8, 10,  6],\n",
    "                     [ 8,  3,  7,  3,  8,  6,  1,  8,  8,  6,  1,  9,  4, 10,  1],\n",
    "                     [ 9,  8,  4,  8,  8, 10,  6,  1,  1,  2,  9,  5,  2,  7,  2],\n",
    "                     [ 4,  1,  6,  4,  3, 10,  4,  4,  2,  8,  7,  9,  3,  8,  3],\n",
    "                     [ 2,  7,  7,  6, 10,  6,  8,  9,  8,  6, 10,  1,  7, 10,  4],\n",
    "                     [ 5, 10,  8,  8,  9,  7,  2,  9,  9, 10,  8,  8,  8,  6, 10]])"
   ]
  },
  {
   "cell_type": "markdown",
   "metadata": {
    "id": "FuYpBPsTjBVa"
   },
   "source": [
    "Необходимо найти наиболее похожего пользователя по косинусной метрике для каждого из пользователей (ответ: 10 пар вида (x, y), где y - наиболее похожий пользователь на пользователя x)."
   ]
  },
  {
   "cell_type": "code",
   "execution_count": 41,
   "metadata": {
    "id": "dY3dBHLbKY_I"
   },
   "outputs": [
    {
     "data": {
      "text/plain": [
       "array([[ 1.        ,  0.82602919,  0.84921529,  0.78340116,  0.81917632,\n",
       "         0.74118548,  0.72735828,  0.80967522,  0.91065982,  0.86010776],\n",
       "       [ 0.82602919,  1.        ,  0.81234325,  0.84635337,  0.87138052,\n",
       "         0.82713107,  0.82629684,  0.80026003,  0.82526308,  0.81968127],\n",
       "       [ 0.84921529,  0.81234325,  1.        ,  0.84669374,  0.78394299,\n",
       "         0.79097985,  0.67616223,  0.76289552,  0.82112077,  0.91873051],\n",
       "       [ 0.78340116,  0.84635337,  0.84669374,  1.        ,  0.69153409,\n",
       "         0.78665792,  0.83274211,  0.82934667,  0.7770666 ,  0.8588687 ],\n",
       "       [ 0.81917632,  0.87138052,  0.78394299,  0.69153409,  1.        ,\n",
       "         0.7764434 ,  0.78200468,  0.81236869,  0.87948477,  0.84574789],\n",
       "       [ 0.74118548,  0.82713107,  0.79097985,  0.78665792,  0.7764434 ,\n",
       "         1.        ,  0.74011801,  0.84451685,  0.80622876,  0.85514908],\n",
       "       [ 0.72735828,  0.82629684,  0.67616223,  0.83274211,  0.78200468,\n",
       "         0.74011801,  1.        ,  0.82669174,  0.81130044,  0.79154718],\n",
       "       [ 0.80967522,  0.80026003,  0.76289552,  0.82934667,  0.81236869,\n",
       "         0.84451685,  0.82669174,  1.        ,  0.7981276 ,  0.83682229],\n",
       "       [ 0.91065982,  0.82526308,  0.82112077,  0.7770666 ,  0.87948477,\n",
       "         0.80622876,  0.81130044,  0.7981276 ,  1.        ,  0.90093797],\n",
       "       [ 0.86010776,  0.81968127,  0.91873051,  0.8588687 ,  0.84574789,\n",
       "         0.85514908,  0.79154718,  0.83682229,  0.90093797,  1.        ]])"
      ]
     },
     "execution_count": 41,
     "metadata": {},
     "output_type": "execute_result"
    }
   ],
   "source": [
    "from sklearn.metrics.pairwise import cosine_similarity\n",
    "sim = cosine_similarity(raitings)\n",
    "sim"
   ]
  },
  {
   "cell_type": "code",
   "execution_count": 64,
   "metadata": {},
   "outputs": [
    {
     "name": "stdout",
     "output_type": "stream",
     "text": [
      "0 8\n",
      "1 4\n",
      "2 9\n",
      "3 9\n",
      "4 8\n",
      "5 9\n",
      "6 3\n",
      "7 5\n",
      "8 0\n",
      "9 2\n"
     ]
    }
   ],
   "source": [
    "for i in range(len(sim)):\n",
    "    print(i,np.argsort(sim[i])[-2])\n",
    "    "
   ]
  },
  {
   "cell_type": "code",
   "execution_count": null,
   "metadata": {
    "collapsed": true
   },
   "outputs": [],
   "source": []
  }
 ],
 "metadata": {
  "colab": {
   "collapsed_sections": [],
   "name": "HW_X_upd",
   "provenance": []
  },
  "kernelspec": {
   "display_name": "Python 3",
   "language": "python",
   "name": "python3"
  },
  "language_info": {
   "codemirror_mode": {
    "name": "ipython",
    "version": 3
   },
   "file_extension": ".py",
   "mimetype": "text/x-python",
   "name": "python",
   "nbconvert_exporter": "python",
   "pygments_lexer": "ipython3",
   "version": "3.6.2"
  }
 },
 "nbformat": 4,
 "nbformat_minor": 1
}
